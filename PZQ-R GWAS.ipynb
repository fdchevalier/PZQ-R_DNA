{
 "cells": [
  {
   "cell_type": "markdown",
   "metadata": {},
   "source": [
    "# PZQ resistance: genome-wide association study\n",
    "\n",
    "\n",
    "## Aim\n",
    "\n",
    "This notebook describes the different analyses regarding the mapping of the quantitative trait locus (QTL) associated to praziquantel (PZQ) resistance. We performed a genome-wide association study on a population of *Schistosoma mansoni* (SmLE-PZQ-R) which is polymorphic for PZQ resistance ([Couto *et al.*](https://doi.org/10.1590/s0074-02762011000200006)). The population was treated with a dose of 24 µg/mL of PZQ and survival of the worms was objectively assessed using a lactate assay. Pools of the 20% lowest and 20% higher lactacte producer were made. The GWAS was conducted with two independent biological replicates and each library was sequenced in triplicate for assessing allele frequencies. We compared allele frequencies between pools in order to identify the genomic locus involved in PZQ resistance.\n",
    "\n",
    "After identifying the QTL related to resistance, we performed a marker assisted selection to create two populations: an enriched population in PZQ resistance allele (SmLE-PZQ-ER) and an enriched population in PZQ sensitive allele (SmLE-PZQ-ES). We confirmed the phenotype by assessing PZQ response using a lactate assay and confirmed that the desired locus was the only one differentiating the two populations.\n",
    "\n",
    "\n",
    "## Environment and data\n",
    "\n",
    "Creating a conda environment improves reproducibility by installing specific versions of the programs used."
   ]
  },
  {
   "cell_type": "code",
   "execution_count": null,
   "metadata": {},
   "outputs": [],
   "source": [
    "conda env create -f .env/env.yml"
   ]
  },
  {
   "cell_type": "markdown",
   "metadata": {},
   "source": [
    "The cell below must be run each time a new Jupyter session is run."
   ]
  },
  {
   "cell_type": "code",
   "execution_count": null,
   "metadata": {},
   "outputs": [],
   "source": [
    "# Activate the environment\n",
    "source $(sed \"s,/bin/conda,,\" <<<$CONDA_EXE)/etc/profile.d/conda.sh\n",
    "conda activate PZQ-R_DNA\n",
    "\n",
    "# Remove potential variable interferences\n",
    "export PERL5LIB=\"\"\n",
    "export PYTHONNOUSERSITE=1"
   ]
  },
  {
   "cell_type": "markdown",
   "metadata": {},
   "source": [
    "The cell below must be run only once at the time of the environment creation."
   ]
  },
  {
   "cell_type": "code",
   "execution_count": null,
   "metadata": {},
   "outputs": [],
   "source": [
    "# Installing needed R packages\n",
    "Rscript \".env/R package dependencies.R\""
   ]
  },
  {
   "cell_type": "markdown",
   "metadata": {},
   "source": [
    "### Phenotypic data\n",
    "\n",
    "The phenotypic data for the GWAS and selected populations must be downloaded from [Zenodo](https://doi.org/10.5281/zenodo.5209299). If further information is needed regarding the data, detailed readmes are present in each folder."
   ]
  },
  {
   "cell_type": "code",
   "execution_count": null,
   "metadata": {},
   "outputs": [],
   "source": [
    "# Data directory\n",
    "pdir=\"data/phenotypes\"\n",
    "[[ ! -d \"$pdir\" ]] && mkdir -p \"$pdir\""
   ]
  },
  {
   "cell_type": "code",
   "execution_count": null,
   "metadata": {},
   "outputs": [],
   "source": [
    "# Download files\n",
    "# Download the data from Zenodo\n",
    "wget -P \"$pdir\" \"https://zenodo.org/record/5209300/files/Phenotype%2C%20genotype%20and%20fitness%20data.tar.gz\"\n",
    "\n",
    "# Extract files\n",
    "tar xzvf \"$pdir/Phenotype, genotype and fitness data.tar.gz\" -C \"$pdir\"\n",
    "\n",
    "# Remove archive\n",
    "rm \"$pdir/Phenotype, genotype and fitness data.tar.gz\""
   ]
  },
  {
   "cell_type": "markdown",
   "metadata": {},
   "source": [
    "### Sequencing data\n",
    "\n",
    "This step downloads the fastq files of the different samples from the SRA repository.\n",
    "\n",
    "#### GWAS"
   ]
  },
  {
   "cell_type": "code",
   "execution_count": null,
   "metadata": {},
   "outputs": [],
   "source": [
    "# Data directory\n",
    "ldir=\"data/libraries/1-GWAS/\"\n",
    "[[ ! -d \"$ldir\" ]] && mkdir -p \"$ldir\""
   ]
  },
  {
   "cell_type": "code",
   "execution_count": null,
   "metadata": {},
   "outputs": [],
   "source": [
    "# Bioproject\n",
    "bioproject=PRJNA699326\n",
    "\n",
    "# Download related information to data project\n",
    "wget -q -O runinfo \"http://trace.ncbi.nlm.nih.gov/Traces/sra/sra.cgi?save=efetch&rettype=runinfo&db=sra&term=${bioproject}\"\n",
    "\n",
    "# Field of interest (library name and weblink)\n",
    "fdn=$(head -n 1 runinfo | tr \",\" \"\\n\" | grep -w -n \"SampleName\" | cut -d \":\" -f 1)\n",
    "fdr=$(head -n 1 runinfo | tr \",\" \"\\n\" | grep -w -n \"Run\" | cut -d \":\" -f 1)\n",
    "flk=$(head -n 1 runinfo | tr \",\" \"\\n\" | grep -w -n \"download_path\" | cut -d \":\" -f 1)\n",
    "\n",
    "# Download fastq files\n",
    "while read line\n",
    "do\n",
    "    # Filename, run and download link\n",
    "    fln=$(cut -d \",\" -f $fdn <<<$line)\n",
    "    run=$(cut -d \",\" -f $fdr <<<$line)\n",
    "    lnk=$(cut -d \",\" -f $flk <<<$line)\n",
    "    \n",
    "    # Download\n",
    "    echo \"$fln\"\n",
    "    [[ ! -d \"$ldir/$fln/\" ]] && mkdir -p \"$ldir/$fln/\"\n",
    "    retry=0\n",
    "    \n",
    "    while [[ $retry -lt 2 ]]\n",
    "    do\n",
    "        # Download sra file\n",
    "        wget -q -c -O \"$ldir/$fln/$run\" \"$lnk\"\n",
    "        # Check integrity\n",
    "        vdb-validate -q \"$ldir/$fln/$run\" &> /dev/null\n",
    "        [[ $? -ne 0 ]] && ((retry++)) || break\n",
    "    done\n",
    "    \n",
    "    # If max download attempt reached, issue message and move to the next\n",
    "    [[ $retry -eq 2 ]] && echo \"$run: dowloading problem\" >> \"$ldir/download_issue\" && contine\n",
    "    \n",
    "    # Convert sra into fastq\n",
    "    fastq-dump -O \"$ldir/$fln/\" --split-files \"$ldir/$fln/$run\"\n",
    "    rm \"$ldir/$fln/$run\"\n",
    "    \n",
    "    # Rename file with more meaningful name\n",
    "    mv \"$ldir/$fln/${run}_1.fastq\" \"$ldir/$fln/${fln}_R1.fastq\"\n",
    "    mv \"$ldir/$fln/${run}_2.fastq\" \"$ldir/$fln/${fln}_R2.fastq\"\n",
    "    \n",
    "done < <(tail -n +2 runinfo | sed \"/^$/d\")\n",
    "\n",
    "# Compress files\n",
    "pigz \"$ldir/\"*/*\n",
    "\n",
    "rm runinfo*"
   ]
  },
  {
   "cell_type": "markdown",
   "metadata": {},
   "source": [
    "#### Selected SmLE-PZQ-ER and SmLE-PZQ-ES populations"
   ]
  },
  {
   "cell_type": "code",
   "execution_count": null,
   "metadata": {},
   "outputs": [],
   "source": [
    "# Data directory\n",
    "ldir=\"data/libraries/2-ER-ES_populations/\"\n",
    "[[ ! -d \"$ldir\" ]] && mkdir -p \"$ldir\""
   ]
  },
  {
   "cell_type": "code",
   "execution_count": null,
   "metadata": {},
   "outputs": [],
   "source": [
    "# Bioproject\n",
    "bioproject=PRJNA701978\n",
    "\n",
    "# Download related information to data project\n",
    "wget -q -O runinfo \"http://trace.ncbi.nlm.nih.gov/Traces/sra/sra.cgi?save=efetch&rettype=runinfo&db=sra&term=${bioproject}\"\n",
    "\n",
    "# Field of interest (library name and weblink)\n",
    "fdn=$(head -n 1 runinfo | tr \",\" \"\\n\" | grep -w -n \"SampleName\" | cut -d \":\" -f 1)\n",
    "fdr=$(head -n 1 runinfo | tr \",\" \"\\n\" | grep -w -n \"Run\" | cut -d \":\" -f 1)\n",
    "flk=$(head -n 1 runinfo | tr \",\" \"\\n\" | grep -w -n \"download_path\" | cut -d \":\" -f 1)\n",
    "\n",
    "# Download fastq files\n",
    "while read line\n",
    "do\n",
    "    # Filename, run and download link\n",
    "    fln=$(cut -d \",\" -f $fdn <<<$line)\n",
    "    run=$(cut -d \",\" -f $fdr <<<$line)\n",
    "    lnk=$(cut -d \",\" -f $flk <<<$line)\n",
    "    \n",
    "    # Download\n",
    "    echo \"$fln\"\n",
    "    [[ ! -d \"$ldir/$fln/\" ]] && mkdir -p \"$ldir/$fln/\"\n",
    "    retry=0\n",
    "    \n",
    "    while [[ $retry -lt 2 ]]\n",
    "    do\n",
    "        # Download sra file\n",
    "        wget -q -c -O \"$ldir/$fln/$run\" \"$lnk\"\n",
    "        # Check integrity\n",
    "        vdb-validate -q \"$ldir/$fln/$run\" &> /dev/null\n",
    "        [[ $? -ne 0 ]] && ((retry++)) || break\n",
    "    done\n",
    "    \n",
    "    # If max download attempt reached, issue message and move to the next\n",
    "    [[ $retry -eq 2 ]] && echo \"$run: dowloading problem\" >> \"$ldir/download_issue\" && contine\n",
    "    \n",
    "    # Convert sra into fastq\n",
    "    fastq-dump -O \"$ldir/$fln/\" --split-files \"$ldir/$fln/$run\"\n",
    "    rm \"$ldir/$fln/$run\"\n",
    "    \n",
    "    # Rename file with more meaningful name\n",
    "    mv \"$ldir/$fln/${run}_1.fastq\" \"$ldir/$fln/${fln}_R1.fastq\"\n",
    "    mv \"$ldir/$fln/${run}_2.fastq\" \"$ldir/$fln/${fln}_R2.fastq\"\n",
    "    \n",
    "done < <(tail -n +2 runinfo | sed \"/^$/d\")\n",
    "\n",
    "# Compress files\n",
    "pigz \"$ldir/\"*/*\n",
    "\n",
    "rm runinfo*"
   ]
  },
  {
   "cell_type": "markdown",
   "metadata": {},
   "source": [
    "### Genome data\n",
    "\n",
    "The genome data is downloaded from the [WormBase ParaSite](https://parasite.wormbase.org). We use the data from the version 14 (WBPS14). The data is then indexed by the different tools used in the downstream pipeline."
   ]
  },
  {
   "cell_type": "code",
   "execution_count": null,
   "metadata": {},
   "outputs": [],
   "source": [
    "gdir=\"data/genome\"\n",
    "[[ ! -d \"$gdir\" ]] && mkdir -p \"$gdir\"\n",
    "\n",
    "# Download and unzip data\n",
    "wget -P \"$gdir\" ftp://ftp.ebi.ac.uk/pub/databases/wormbase/parasite/releases/WBPS14/species/schistosoma_mansoni/PRJEA36577/schistosoma_mansoni.PRJEA36577.WBPS14.genomic.fa.gz\n",
    "pigz -d \"$gdir/schistosoma_mansoni.PRJEA36577.WBPS14.genomic.fa.gz\""
   ]
  },
  {
   "cell_type": "code",
   "execution_count": null,
   "metadata": {
    "scrolled": false
   },
   "outputs": [],
   "source": [
    "# Preparing indices\n",
    "bwa index \"$gdir/schistosoma_mansoni.PRJEA36577.WBPS14.genomic.fa\"\n",
    "samtools faidx \"$gdir/schistosoma_mansoni.PRJEA36577.WBPS14.genomic.fa\"\n",
    "gatk CreateSequenceDictionary -R \"$gdir/schistosoma_mansoni.PRJEA36577.WBPS14.genomic.fa\""
   ]
  },
  {
   "cell_type": "markdown",
   "metadata": {},
   "source": [
    "### snpEff database\n",
    "\n",
    "To annotate the functional consequences of the variants in the VCF file, we use the snpEff tool. Because the reference genome is recent, we have to build a snpEff database in order to annotate the variants. "
   ]
  },
  {
   "cell_type": "code",
   "execution_count": null,
   "metadata": {},
   "outputs": [],
   "source": [
    "# Create snpEff folder\n",
    "sedir=\"$gdir/snpEff/\"\n",
    "mkdir \"$sedir\"\n",
    "\n",
    "# Download the S. mansoni genome annotation\n",
    "wget -P \"$gdir\" ftp://ftp.ebi.ac.uk/pub/databases/wormbase/parasite/releases/WBPS14/species/schistosoma_mansoni/PRJEA36577/schistosoma_mansoni.PRJEA36577.WBPS14.annotations.gff3.gz\n",
    "\n",
    "pigz -d \"$gdir/schistosoma_mansoni.PRJEA36577.WBPS14.annotations.gff3.gz\"\n",
    "\n",
    "# Convert gff to gtf to make it easier for snpEff\n",
    "gffread \"$gdir/schistosoma_mansoni.PRJEA36577.WBPS14.annotations.gff3\" -T -o \"$gdir/schistosoma_mansoni.PRJEA36577.WBPS14.annotations.gtf\"\n",
    "\n",
    "# Custom snpEff config file\n",
    "cp \"$CONDA_PREFIX\"/share/snpeff-4.3.1t-4/snpEff.config \"$sedir\"\n",
    "\n",
    "## Identify mitochondrial chromosome\n",
    "mito=$(grep -i \">.*mito.*\" \"$gdir/schistosoma_mansoni.PRJEA36577.WBPS14.genomic.fa\" | sed -r \"s/>(.*) .*/\\1/\")\n",
    "\n",
    "##  Add schistosome genome and specify mitochondrial chromosome\n",
    "sed -i -r \"s|data.dir = ./data/|data.dir = .| ; s|(# Ebola virus)|# S. mansoni\\nsmansoni.genome: Schistosoma_mansoni\\n\\tsmansoni.$mito.codonTable : Trematode_Mitochondrial\\n\\n\\1|\" \"$sedir\"/snpEff.config\n",
    "\n",
    "# Create the mandatory folder and link to the needed files\n",
    "mkdir \"$sedir\"/genomes\n",
    "ln -s \"$PWD/$gdir/schistosoma_mansoni.PRJEA36577.WBPS14.genomic.fa\" \"$PWD/$sedir/genomes/smansoni.fa\"\n",
    "\n",
    "mkdir \"$sedir\"/smansoni\n",
    "ln -s \"$PWD/$gdir/schistosoma_mansoni.PRJEA36577.WBPS14.annotations.gtf\" \"$PWD/$sedir/smansoni/genes.gtf\"\n",
    "\n",
    "# Generate the database\n",
    "snpEff build -v -c \"$sedir/snpEff.config\" smansoni"
   ]
  },
  {
   "cell_type": "markdown",
   "metadata": {},
   "source": [
    "### Known variants\n",
    "\n",
    "List of variants from the SmLE x SmHR crosses that segregated in a Mendelian fashion in F1 ([Valentim *et al.* 2013](https://doi.org/10.1126/science.1243106)). This list was generated from alignments using the v5 genome. This has been lifted over to the latest genome using the [flo pipeline](https://github.com/wurmlab/flo/tree/727f10b2b1c57a0514835d302d7f6345d3a34ffb)."
   ]
  },
  {
   "cell_type": "code",
   "execution_count": null,
   "metadata": {},
   "outputs": [],
   "source": [
    "# Index file\n",
    "gatk IndexFeatureFile -I \"$gdir/sm_dbSNP_v7.vcf\""
   ]
  },
  {
   "cell_type": "markdown",
   "metadata": {},
   "source": [
    "## Genome-wide assocation study\n",
    "\n",
    "### Phenotypes\n",
    "\n",
    "#### PZQ response of SmLE and SmLE-PZQ-R\n",
    "\n",
    "We tested PZQ response of SmLE and SmLE-PZQ-R using several doses of PZQ. We assessed mortality based on worm movement. We noticed that 35% of the worms from the SmLE-PZQ-R population always recovered from the highest treatment, suggesting fully resistant worms."
   ]
  },
  {
   "cell_type": "code",
   "execution_count": null,
   "metadata": {},
   "outputs": [],
   "source": [
    "Rscript scripts/Fig1_IC_curves_script_LE_PZQR.R"
   ]
  },
  {
   "cell_type": "markdown",
   "metadata": {},
   "source": [
    "#### Validation of lactate assay as phenotyping tool \n",
    "\n",
    "Because visual assessement of \"mortality\" through movement is not high throughtput and there is no working software to quantify single worm movement in schistosome from video recordings, we decided to quantify L-lactate production, a surrogate measure of respiration, to efficiently quantify the worm recovery from PZQ treatment. We validate the method by comparing the lactate production with visual assessement."
   ]
  },
  {
   "cell_type": "code",
   "execution_count": null,
   "metadata": {},
   "outputs": [],
   "source": [
    "Rscript scripts/FigS1_Single_worm_lactate_data_sorted.R"
   ]
  },
  {
   "cell_type": "markdown",
   "metadata": {},
   "source": [
    "#### Worm selection for the GWAS\n",
    "\n",
    "We treated single worms with a dose of 24 µg/mL and quantify the lactate production of each. We took the 20% lowest and highest lactate producers from the distribution to build the sensitive (contracted) and resistant (recovered) worm pools, respectively. The experiment was done in duplicate. We then extracted DNA from worm pools, prepared the libraries and sent it for sequencing.\n",
    "\n",
    "**Note:** this script generates the list of worms that were selected. However, it should be run after doing the sequencing data and variant calling because it generates the figure 2 of the manuscript which requires variant data."
   ]
  },
  {
   "cell_type": "code",
   "execution_count": null,
   "metadata": {},
   "outputs": [],
   "source": [
    "Rscript scripts/Fig2_PZQ_resistance_association_study.R"
   ]
  },
  {
   "cell_type": "markdown",
   "metadata": {},
   "source": [
    "### Sequencing data processing\n",
    "\n",
    "Sequencing data are processed using a snakemake pipeline. The pipeline performs the following steps:\n",
    "* alignment of each library against the reference genome\n",
    "* marking duplicates\n",
    "* base quality recalibration\n",
    "* generating alignment statistics\n",
    "* calling variants (gVCF) for each library\n",
    "* combining gVCF of all libraries\n",
    "* genotyping all samples per contig\n",
    "* merging all the contigs to generate final VCF file\n",
    "\n",
    "The VCF file produced is then be used to identify possible QTLs link to the PZQ resistance."
   ]
  },
  {
   "cell_type": "code",
   "execution_count": null,
   "metadata": {},
   "outputs": [],
   "source": [
    "# Status directory\n",
    "statdir=status\n",
    "[[ ! -d \"$statdir\" ]] && mkdir -p \"$statdir\""
   ]
  },
  {
   "cell_type": "code",
   "execution_count": null,
   "metadata": {},
   "outputs": [],
   "source": [
    "snakemake --snakefile GWAS.smk --cluster \"qsub -V -cwd -o $statdir -j y -r y -l mem_free=50G -S /bin/bash\" --jobs 384 -w 120"
   ]
  },
  {
   "cell_type": "markdown",
   "metadata": {},
   "source": [
    "### Variant annotation\n",
    "\n",
    "Functional consequences of variants is annotated to the VCF file using snpEff."
   ]
  },
  {
   "cell_type": "code",
   "execution_count": null,
   "metadata": {},
   "outputs": [],
   "source": [
    "# Variant calling directory\n",
    "cdir=\"data/calling\"\n",
    "[[ ! -d \"$cdir\" ]] && mkdir -p \"$cdir\"\n",
    "\n",
    "myvcf=$(grep -m 1 VCF_PFX GWAS.smk | cut -d \"\\\"\" -f 2)\n",
    "\n",
    "snpEff -v -c \"$sedir/snpEff.config\" smansoni \"$cdir/$myvcf.vcf.gz\" | bgzip -c -@ $(nproc) > \"$cdir/${myvcf}_snpEff.vcf.gz\"\n",
    "\n",
    "# Index the VCF file\n",
    "tabix \"$cdir/${myvcf}_snpEff.vcf.gz\"\n",
    "\n",
    "# Move file in the right folder\n",
    "mv -t \"$cdir/\" snpEff_summary.* snpEff_genes.txt"
   ]
  },
  {
   "cell_type": "markdown",
   "metadata": {},
   "source": [
    "### QTL analysis\n",
    "\n",
    "The analysis relies on several steps:\n",
    "* **SNP filtration**: bi-allelic sites only, minimum read depth (DP) of 10, and maximum standard deviation between triplicated libraries of 10. Filtering with read depth and standard deviation is done after Z score calculation. We did not use genotype quality as a filtering parameter because this is not relevant for pool genotyping.\n",
    "* **Estimation of the genotype data**: a genotype at each variable site is estimated for each pool based on allele frequencies.\n",
    "* **Allele frequency polarization**: allele frequencies are polarized (0 = fixed in resistant pool, 1 = fixed in sensitive). These polarized allele frequencies are then subtracted to determine origin of alleles explaining the difference in Z score.\n",
    "* **Computation of the Z scores**: Z scores are computed for each variant based on allele frequencies between recovered and contracted pools. Then Z scores are combined between replicated experiment at common variable sites between pools.\n",
    "* **QTL boundaries**: we determine the boundaries of each QTL passing the Bonferroni correction (variants are considered in the same QTL if they are at max 500 kb apart).\n",
    "* **Mutation and gene tables**: for each identified QTL, a table of mutations and a summary table of genes are generated.\n",
    "* **Figures**: figures are eventually generated regarding quality filtering, QTL mapping, allele polarization and origin of allele (allele frequency subtraction).\n",
    "\n",
    "**Note**: The analysis will take at least half an hour on powerful servers (192 1.9 GHz CPUs / 1 TB of RAM)."
   ]
  },
  {
   "cell_type": "code",
   "execution_count": null,
   "metadata": {},
   "outputs": [],
   "source": [
    "Rscript scripts/PZQ-R_GWAS_X-QTL.R"
   ]
  },
  {
   "cell_type": "markdown",
   "metadata": {},
   "source": [
    "The analysis shows the presence of two QTLs on chr. 2 and chr. 3.\n",
    "\n",
    "We confirmed our findings using the G' statistics, an alternative method to the Z score. We used the R package [QTLseqr](https://doi.org/10.3835/plantgenome2018.01.0006). Results are highly similar."
   ]
  },
  {
   "cell_type": "code",
   "execution_count": null,
   "metadata": {},
   "outputs": [],
   "source": [
    "Rscript scripts/QTLseqr_analysis.R"
   ]
  },
  {
   "cell_type": "markdown",
   "metadata": {},
   "source": [
    "### Copy number variation\n",
    "\n",
    "In order to identify copy number variation (CNV) into the QTL, we generate a coverage file of the chromosome 3 for each library. This will produce a table with read depth at each position of the chromosome. Only read depth greater than 0 will be retained."
   ]
  },
  {
   "cell_type": "code",
   "execution_count": null,
   "metadata": {},
   "outputs": [],
   "source": [
    "for i in $(find data/libraries/1-GWAS/ -name \"*_sorted_MD_recal.bam\" | sort)\n",
    "do\n",
    "    sample=$(basename $(dirname \"$i\"))\n",
    "    output=\"$(dirname \"$i\")/${sample}_3_QTL.cov\"\n",
    "    echo \"samtools view -u $i SM_V7_3 | bedtools genomecov -ibam - -d | grep -w SM_V7_3 | awk '\\$3 > 0 {print}' > $output\" | qsub -V -cwd -o \"$statdir\" -j y -r y -pe smp 12\n",
    "done"
   ]
  },
  {
   "cell_type": "markdown",
   "metadata": {},
   "source": [
    "The table is then analyzed using the R package [cn.mops](https://doi.org/doi:10.18129/B9.bioc.cn.mops)."
   ]
  },
  {
   "cell_type": "code",
   "execution_count": null,
   "metadata": {},
   "outputs": [],
   "source": [
    "Rscript scripts/PZQ-R_GWAS_CNV.R"
   ]
  },
  {
   "cell_type": "code",
   "execution_count": null,
   "metadata": {},
   "outputs": [],
   "source": [
    "Rscript scripts/PZQ-R_GWAS_CNV_graph_RD.R"
   ]
  },
  {
   "cell_type": "markdown",
   "metadata": {},
   "source": [
    "This revealed the presence of two CNVs within the QTL:\n",
    "* The first very close to the end of the Sm.TRPM$_{PZQ}$ gene\n",
    "* The second few hundreds kb away, close to a transcription factor"
   ]
  },
  {
   "cell_type": "markdown",
   "metadata": {},
   "source": [
    "### Mode of inheritance of PZQ response\n",
    "\n",
    "To confirm these associations and determine whether the loci underlying PZQ response are inherited in a dominant, co-dominant or recessive manner, we compared genotype and PZQ-response phenotype in individual worms. We exposed individual worms to 24 μg/mL PZQ and measured lactate production 48 hours after exposure. We then genotyped the worms at SNPs at the peaks of the chr. 2 and chr. 3 QTLs. We also examined copy number of one of the 150 kb deletion observed on chr. 3 using qPCR."
   ]
  },
  {
   "cell_type": "code",
   "execution_count": null,
   "metadata": {},
   "outputs": [],
   "source": [
    "Rscript scripts/Fig3_chr2_chr3_CNV_lactate_script.R"
   ]
  },
  {
   "cell_type": "markdown",
   "metadata": {},
   "source": [
    "We observed significant differences in lactate production among genotypes. Both the copy number variant and the SNP assayed in Sm.TRPM$_{PZQ}$ revealed that the causative gene in the chr. 3 QTL showed recessive inheritance. Homozygous parasites carrying two copies of the Sm.TRPM$_{PZQ}$-741987C allele (or two copies of the deletion) recovered from PZQ treatment, while the heterozygote and other homozygotes failed to recover from treatment. For the chr. 2 QTL, we did not see a significant association between parasite genotype and PZQ-R phenotype nor with lactate production before PZQ treatment. \n",
    "\n",
    "\n",
    "### Sm.TRPM$_{PZQ}$ mutations\n",
    "\n",
    "In order to identify the possible mutations responsible for PZQ resistance, we listed variants in the Sm.TRPM$_{PZQ}$ (Smp_246790) gene, their potential impact on the protein from the longest isoform (isoform 5) and the allele frequencies."
   ]
  },
  {
   "cell_type": "code",
   "execution_count": null,
   "metadata": {
    "scrolled": true
   },
   "outputs": [],
   "source": [
    "# List of libraries\n",
    "for i in $(find data/libraries/1-GWAS -maxdepth 1 -printf '%P\\n' | sed \"/^$/d\")\n",
    "do\n",
    "    echo -e \"$i\\t$(cut -d \"_\" -f 3 <<< \"$i\")\"\n",
    "done | sort -k2 > data/pop_GWAS"
   ]
  },
  {
   "cell_type": "code",
   "execution_count": null,
   "metadata": {},
   "outputs": [],
   "source": [
    "# VCF filename\n",
    "myvcf=\"$cdir/$(grep -m 1 VCF_PFX GWAS.smk | cut -d \"\\\"\" -f 2).vcf.gz\"\n",
    "\n",
    "# Working directory\n",
    "mutdir=\"results/3-Mutations in SmTRP/1-GWAS\"\n",
    "[[ ! -d \"$mutdir\" ]] && mkdir -p \"$mutdir\"\n",
    "\n",
    "scripts/func-table-mut.sh -v \"$myvcf\" \\\n",
    "    -r \"$gdir/schistosoma_mansoni.PRJEA36577.WBPS14.genomic.fa\"\\\n",
    "    -g \"$gdir/Smp_246790.5.gff\" \\\n",
    "    -p data/pop_GWAS \\\n",
    "    -o \"$mutdir/Smp_246790.tsv\""
   ]
  },
  {
   "cell_type": "markdown",
   "metadata": {},
   "source": [
    "## Selected SmLE-PZQ-ER and SmLE-PZQ-ES populations\n",
    "\n",
    "We selected a marker associated with resistance/sensitivity to PZQ in the QTL region. We then performed mono-miracidial infection of snails to generate single worm genotypes. We used an a PCR-RFLP assay in order to analyze each parasite genotype to identify carrier of the marker associated with resistance or sensitivity. We then sexed the parasite genotype and used 32 males and 32 females parasite genotypes to generate either a populations enriched in resistant allele (ER) or in sensitive allele (ES).\n",
    "\n",
    "### Phenotypes\n",
    "\n",
    "In order to confirm PZQ resistance or sensitivity of each population, we tested single worms from ER and ES populations with several doses (similarly to the test of SmLE-PZQ-R). Results showed that the ER and ES populations differ by more than 377-fold in PZQ response."
   ]
  },
  {
   "cell_type": "code",
   "execution_count": null,
   "metadata": {},
   "outputs": [],
   "source": [
    "Rscript scripts/Fig4_IC_curves_script_ES_ER.R"
   ]
  },
  {
   "cell_type": "markdown",
   "metadata": {},
   "source": [
    "### Sequencing data processing\n",
    "\n",
    "In order to ensure that the marker-assisted selection worked as intended, we sequenced pooled worms from ER and ES populations. We run a similar snakemake pipeline as for the GWAS."
   ]
  },
  {
   "cell_type": "code",
   "execution_count": null,
   "metadata": {},
   "outputs": [],
   "source": [
    "snakemake --snakefile Selected_populations.smk --cluster \"qsub -V -cwd -o $statdir -j y -r y -l mem_free=50G -S /bin/bash\" --jobs 384 -w 120"
   ]
  },
  {
   "cell_type": "markdown",
   "metadata": {},
   "source": [
    "### Genomic analysis\n",
    "\n",
    "We analyze the genetic differences between the two new ER and ES populations. We expect them to be genetically identical except at the locus selected. The analysis perform is identical to the one used to identify the QTLs.\n",
    "\n",
    "**Note**: The analysis will take at least half an hour on powerful servers (192 1.9 GHz CPUs / 1 TB of RAM)."
   ]
  },
  {
   "cell_type": "code",
   "execution_count": null,
   "metadata": {},
   "outputs": [],
   "source": [
    "Rscript scripts/PZQ-R_ER-ES_X-QTL.R"
   ]
  },
  {
   "cell_type": "markdown",
   "metadata": {},
   "source": [
    "### Copy number variation\n",
    "\n",
    "We perform the same analysis as for the GWAS in order to confirm the presence of CNVs and their association with the resistant phenotype."
   ]
  },
  {
   "cell_type": "code",
   "execution_count": null,
   "metadata": {},
   "outputs": [],
   "source": [
    "for i in $(find data/libraries/2-ER-ES_populations/ -name \"*_sorted_MD_recal.bam\" | sort)\n",
    "do\n",
    "    sample=$(basename $(dirname \"$i\"))\n",
    "    output=\"$(dirname \"$i\")/${sample}_3_QTL.cov\"\n",
    "    echo \"samtools view -u $i SM_V7_3 | bedtools genomecov -ibam - -d | grep -w SM_V7_3 | awk '\\$3 > 0 {print}' > $output\" | qsub -V -cwd -o \"$statdir\" -j y -r y -pe smp 12\n",
    "done"
   ]
  },
  {
   "cell_type": "markdown",
   "metadata": {},
   "source": [
    "The table is then analyzed using the R package [cn.mops](https://doi.org/doi:10.18129/B9.bioc.cn.mops) as previously. This confirmed the presence of the CNV between ER and ES, ER showing a complete deletion at the two CNV sites."
   ]
  },
  {
   "cell_type": "code",
   "execution_count": null,
   "metadata": {},
   "outputs": [],
   "source": [
    "Rscript scripts/PZQ-R_ER-ES_CNV_graph_RD.R"
   ]
  },
  {
   "cell_type": "markdown",
   "metadata": {},
   "source": [
    "### Sm.TRPM$_{PZQ}$ mutations\n",
    "\n",
    "We performe mutation analysis with SmLE-PZQ-ER and ES similar to the one done with SmLE-PZQ-R."
   ]
  },
  {
   "cell_type": "code",
   "execution_count": null,
   "metadata": {
    "scrolled": true
   },
   "outputs": [],
   "source": [
    "for i in $(find data/libraries/2-ER-ES_populations -maxdepth 1 -printf '%P\\n' | sed \"/^$/d\")\n",
    "do\n",
    "    echo -e \"$i\\t$(cut -d \"_\" -f 1 <<< \"$i\")\"\n",
    "done | sort -k2 > data/pop_ER-ES"
   ]
  },
  {
   "cell_type": "code",
   "execution_count": null,
   "metadata": {},
   "outputs": [],
   "source": [
    "# VCF filename\n",
    "myvcf=\"$cdir/$(grep -m 1 VCF_PFX Selected_populations.smk | cut -d \"\\\"\" -f 2).vcf.gz\"\n",
    "\n",
    "# Working directory\n",
    "mutdir=\"results/3-Mutations in SmTRP/2-ER-ES_populations\"\n",
    "[[ ! -d \"$mutdir\" ]] && mkdir -p \"$mutdir\"\n",
    "\n",
    "scripts/func-table-mut.sh -v \"$myvcf\" \\\n",
    "    -r \"$gdir/schistosoma_mansoni.PRJEA36577.WBPS14.genomic.fa\"\\\n",
    "    -g \"$gdir/Smp_246790.5.gff\" \\\n",
    "    -p data/pop_ER-ES \\\n",
    "    -o \"$mutdir/Smp_246790.5.tsv\""
   ]
  },
  {
   "cell_type": "markdown",
   "metadata": {},
   "source": [
    "### Fitness of SmLE-PZQ-ER and SmLE-PZQ-ES parasite populations\n",
    "\n",
    "Both laboratory selected and field isolated *S. mansoni* showing PZQ-R have been difficult to maintain in the laboratory: the PZQ-R trait has been rapidly lost consistent with strong selection against this trait. It has been suggested that PZQ-R carries a fitness cost that will slow spread of this trait in the field under PZQ pressure. We measured several components of parasite fitness in SmLE-PZQ-ES and SmLE-PZQ-ER parasites during laboratory passage of purified parasite lines."
   ]
  },
  {
   "cell_type": "code",
   "execution_count": null,
   "metadata": {},
   "outputs": [],
   "source": [
    "Rscript scripts/FigS3_fitness_ES_ER.R"
   ]
  },
  {
   "cell_type": "markdown",
   "metadata": {},
   "source": [
    "We found no significant differences in infectivity to snails, snail survival, or infectivity to hamsters."
   ]
  },
  {
   "cell_type": "markdown",
   "metadata": {},
   "source": [
    "### *In vivo* efficacy of PZQ against SmLE-PZQ-ES and SmLE-PZQ-ER parasites\n",
    "\n",
    "To determine the relationship between *in vitro* PZQ-R measured in 96-well plates, and *in vivo* resistance, we treated mice infected with either SmLE-PZQ-ER or SmLE-PZQ-ES parasites populations. Mice were treated with 120 mg/kg of PZQ at 40 days post infection. "
   ]
  },
  {
   "cell_type": "code",
   "execution_count": null,
   "metadata": {},
   "outputs": [],
   "source": [
    "Rscript scripts/FigS7_Invivo_ES_ER.R"
   ]
  },
  {
   "cell_type": "markdown",
   "metadata": {},
   "source": [
    "We observed no significant reduction in worm burden in SmLE-PZQ-ER parasites when comparing PZQ-treated and control (DMSO) treated animals (Wilcoxon test, p = 0.393A). In contrast, we recovered significantly lower numbers of worms from PZQ-treated versus untreated mice infected with the SmLE-PZQ-ES parasite population (Wilcoxon test, p = 0.008). The percent reduction observed was significantly different between the SmLE-PZQ-ES and SmLE-PZQ-ER parasites (Wilcoxon test, p = 0.0129). Interestingly, we observed a large reduction in numbers of female worms recovered from PZQ-treated SmLE-PZQ-ES parasites relative to untreated animals (Wilcoxon test, p = 0.008), while for male worms this did not reach significance (Wilcoxon test, p = 0.089). We saw no impact of PZQ-treatment for either female or male worms in mice infected with SmLE-PZQ-ER. These results show that in vivo PZQ response in treated mice differs between SmLE-PZQ-ES and SmLE-PZQ-ER parasites. These data also suggest that the extended paralysis of male SmLE-PZQ-ES worms under PZQ treatment may reduce their ability to maintain female worms in copula."
   ]
  },
  {
   "cell_type": "markdown",
   "metadata": {},
   "source": [
    "### Chemical blockers and activators of Sm.TRPM$_{PZQ}$ modulate PZQ response\n",
    "\n",
    "Sm.TRPM$_{PZQ}$ emerges as a strong candidate gene to explain variation in PZQ response, but validation is required. We were unsuccessful in knocking down expression of Sm.TRPM$_{PZQ}$ using either siRNA or dsRNA, possibly because this gene is expressed mainly in neural tissue. We therefore used two chemical modulators of Sm.TRPM$_{PZQ}$ activity – an agonist (AG1) and an antagonist (ANT1). We exposed SmLE-PZQ-ER and ES worns to these modulator with or without PZQ. "
   ]
  },
  {
   "cell_type": "code",
   "execution_count": null,
   "metadata": {},
   "outputs": [],
   "source": [
    "Rscript scripts/Fig6_TRP_blocker_activator_script.R"
   ]
  },
  {
   "cell_type": "markdown",
   "metadata": {},
   "source": [
    "Addition of the blocker (ANT1) allowed SmLE-PZQ-ES worms to recover from PZQ treatment, while the activator (AG1) rendered SmLE-PZQ-ER worms sensitive to PZQ treatment in a dose dependent manner. These results are consistent with a role for Sm.TRPM$_{PZQ}$ in determining variation in PZQ response."
   ]
  }
 ],
 "metadata": {
  "kernelspec": {
   "display_name": "Bash",
   "language": "bash",
   "name": "bash"
  },
  "language_info": {
   "codemirror_mode": "shell",
   "file_extension": ".sh",
   "mimetype": "text/x-sh",
   "name": "bash"
  },
  "toc": {
   "base_numbering": 1,
   "nav_menu": {},
   "number_sections": false,
   "sideBar": true,
   "skip_h1_title": true,
   "title_cell": "Table of Contents",
   "title_sidebar": "Contents",
   "toc_cell": false,
   "toc_position": {
    "height": "calc(100% - 180px)",
    "left": "10px",
    "top": "150px",
    "width": "228px"
   },
   "toc_section_display": true,
   "toc_window_display": true
  },
  "varInspector": {
   "cols": {
    "lenName": 16,
    "lenType": 16,
    "lenVar": 40
   },
   "kernels_config": {
    "python": {
     "delete_cmd_postfix": "",
     "delete_cmd_prefix": "del ",
     "library": "var_list.py",
     "varRefreshCmd": "print(var_dic_list())"
    },
    "r": {
     "delete_cmd_postfix": ") ",
     "delete_cmd_prefix": "rm(",
     "library": "var_list.r",
     "varRefreshCmd": "cat(var_dic_list()) "
    }
   },
   "types_to_exclude": [
    "module",
    "function",
    "builtin_function_or_method",
    "instance",
    "_Feature"
   ],
   "window_display": false
  }
 },
 "nbformat": 4,
 "nbformat_minor": 4
}
